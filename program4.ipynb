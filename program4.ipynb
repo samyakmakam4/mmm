{
 "cells": [
  {
   "cell_type": "code",
   "execution_count": 1,
   "metadata": {},
   "outputs": [
    {
     "name": "stdout",
     "output_type": "stream",
     "text": [
      "{'root': {'Sunny': {'Rain': {'Weak': 'Yes'}, 'Sunny': {'High': {'Normal': 'Yes'}, 'Overcast': 'Yes'}, 'High': {'Normal': 'Yes'}, 'Overcast': 'Yes'}}}\n"
     ]
    }
   ],
   "source": [
    "def infoGain(P,N):\n",
    "    import math\n",
    "    return -P/(P+N)*math.log2(P/(P+N))-N/(P+N)*math.log2(N/(P+N))\n",
    "def insertNode(tree, addTo, Node):\n",
    "    for k, v in tree.items():\n",
    "        if isinstance(v, dict):\n",
    "            tree[k] = insertNode(v, addTo, Node)\n",
    "        if addTo in tree:\n",
    "            if isinstance(tree[addTo], dict):\n",
    "                tree[addTo][Node] = 'None'\n",
    "            else:\n",
    "                tree[addTo] = {Node:'None'}\n",
    "    return tree\n",
    "def insertConcept(tree, addTo, Node):\n",
    "    for k, v in tree.items():\n",
    "        if isinstance(v, dict):\n",
    "            tree[k] = insertConcept(v, addTo, Node)\n",
    "        if addTo in tree:\n",
    "            tree[addTo] = Node\n",
    "    return tree\n",
    "def getNextNode(data,AttributeList,concept,conceptVals,tree,addTo):\n",
    "    Total = data.shape[0]\n",
    "    if Total == 0:\n",
    "        return tree\n",
    "    countC = {}\n",
    "    for cVal in conceptVals:\n",
    "        dataCC = data[data[concept] == cVal]\n",
    "        countC[cVal] = dataCC.shape[0]\n",
    "    if countC[conceptVals[0]] == 0:\n",
    "        tree = insertConcept(tree, addTo, conceptVals[1])\n",
    "        return tree\n",
    "    if countC[conceptVals[1]] == 0:\n",
    "        tree = insertConcept(tree, addTo, conceptVals[0])\n",
    "        return tree\n",
    "    ClassEntropy=infoGain(countC[conceptVals[1]],countC[conceptVals[0]])\n",
    "    Attr = {}\n",
    "    for a in AttributeList:\n",
    "        Attr[a] = list(set(data[a]))\n",
    "    AttrCount = {}\n",
    "    EntropyAttr = {}\n",
    "    for att in Attr:\n",
    "        for vals in Attr [att]:\n",
    "            for c in conceptVals:\n",
    "                iData = data[data[att] == vals]\n",
    "                dataAtt = iData[iData[concept] == c]\n",
    "                AttrCount[c] = dataAtt.shape[0]\n",
    "            TotalInfo = AttrCount[conceptVals[1]] + AttrCount[conceptVals[0]]\n",
    "            if AttrCount[conceptVals[1]] == 0 or AttrCount[conceptVals[0]] == 0:\n",
    "                InfoGain=0\n",
    "            else:\n",
    "                InfoGain = infoGain(AttrCount[conceptVals[1]], AttrCount[conceptVals[0]])\n",
    "            if att not in EntropyAttr:\n",
    "                EntropyAttr[att] = ( TotalInfo / Total ) * InfoGain\n",
    "            else:\n",
    "                EntropyAttr[att] = EntropyAttr[att] + ( TotalInfo / Total ) * InfoGain\n",
    "    Gain = {}\n",
    "    for g in EntropyAttr:\n",
    "        Gain[g] = ClassEntropy - EntropyAttr[g]\n",
    "    Node = max(Gain, key = Gain.get)\n",
    "    tree = insertNode(tree, addTo, Node)\n",
    "    for nD in Attr[Node]:\n",
    "        tree = insertNode(tree, Node, nD)\n",
    "        newData = data[data[Node] == nD].drop(Node, axis = 1)\n",
    "        AttributeList=list(newData)[:-1]\n",
    "        tree = getNextNode(newData, AttributeList, concept, conceptVals, tree, nD)\n",
    "    return tree\n",
    "def main():\n",
    "    import pandas as pd\n",
    "    data = pd.read_csv('id3.csv')\n",
    "    AttributeList = list(data)[:-1]\n",
    "    concept = str(list(data)[-1])\n",
    "    conceptVals = list(set(data[concept]))\n",
    "    tree = getNextNode(data, AttributeList, concept, conceptVals, {'root':'None'}, 'root')\n",
    "    print(tree)\n",
    "main()\n",
    "    \n",
    "    "
   ]
  },
  {
   "cell_type": "code",
   "execution_count": null,
   "metadata": {},
   "outputs": [],
   "source": []
  }
 ],
 "metadata": {
  "kernelspec": {
   "display_name": "Python 3",
   "language": "python",
   "name": "python3"
  },
  "language_info": {
   "codemirror_mode": {
    "name": "ipython",
    "version": 3
   },
   "file_extension": ".py",
   "mimetype": "text/x-python",
   "name": "python",
   "nbconvert_exporter": "python",
   "pygments_lexer": "ipython3",
   "version": "3.7.6"
  }
 },
 "nbformat": 4,
 "nbformat_minor": 4
}
