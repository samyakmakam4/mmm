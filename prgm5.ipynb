{
 "cells": [
  {
   "cell_type": "code",
   "execution_count": 6,
   "metadata": {},
   "outputs": [
    {
     "name": "stdout",
     "output_type": "stream",
     "text": [
      "Input: \n",
      "[[0.22222222 1.        ]\n",
      " [0.11111111 0.55555556]\n",
      " [0.33333333 0.66666667]]\n",
      "Actual Output: \n",
      "[[0.92]\n",
      " [0.86]\n",
      " [0.89]]\n",
      "Predicted Output: \n",
      " [[0.89582393]\n",
      " [0.8822759 ]\n",
      " [0.89151316]]\n"
     ]
    }
   ],
   "source": [
    "import numpy as np\n",
    "X = np.array(([2, 9], [1, 5], [3, 6]), dtype=float)\n",
    "y = np.array(([92], [86], [89]), dtype=float)\n",
    "X = X/np.amax(X) \n",
    "y = y/100\n",
    "def sigmoid (x):\n",
    "    return 1/(1 + np.exp(-x))\n",
    "def derivatives_sigmoid(x):\n",
    "    return x * (1 - x)\n",
    "epoch=5000\n",
    "lr=0.1\n",
    "wh = np.random.uniform(size=(2,3))\n",
    "bh = np.random.uniform(size=(1,3))\n",
    "wout = np.random.uniform(size=(3,1))\n",
    "bout = np.random.uniform(size=(1,1))\n",
    "for i in range(epoch):\n",
    "    hinp=np.dot(X,wh) + bh\n",
    "    hlayer_act = sigmoid(hinp)\n",
    "    outinp=np.dot(hlayer_act,wout) + bout\n",
    "    output = sigmoid(outinp)\n",
    "    hiddengrad = derivatives_sigmoid(hlayer_act)\n",
    "    outgrad = derivatives_sigmoid(output)\n",
    "    EO = y-output\n",
    "    d_output = EO* outgrad\n",
    "    EH = d_output.dot(wout.T)\n",
    "    d_hiddenlayer = EH * hiddengrad\n",
    "    wout += hlayer_act.T.dot(d_output) *lr\n",
    "    wh += X.T.dot(d_hiddenlayer) *lr\n",
    "print(\"Input: \\n\" + str(X))\n",
    "print(\"Actual Output: \\n\" + str(y))\n",
    "print(\"Predicted Output: \\n\" ,output)"
   ]
  },
  {
   "cell_type": "code",
   "execution_count": null,
   "metadata": {},
   "outputs": [],
   "source": []
  }
 ],
 "metadata": {
  "kernelspec": {
   "display_name": "Python 3",
   "language": "python",
   "name": "python3"
  },
  "language_info": {
   "codemirror_mode": {
    "name": "ipython",
    "version": 3
   },
   "file_extension": ".py",
   "mimetype": "text/x-python",
   "name": "python",
   "nbconvert_exporter": "python",
   "pygments_lexer": "ipython3",
   "version": "3.7.6"
  }
 },
 "nbformat": 4,
 "nbformat_minor": 4
}
